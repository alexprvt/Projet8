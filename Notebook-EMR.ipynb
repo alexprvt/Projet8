{
 "cells": [
  {
   "cell_type": "markdown",
   "id": "d2aaf544",
   "metadata": {},
   "source": [
    "Tutos utiles pour manipuler les différents modules de pyspark:\n",
    "- https://sparkbyexamples.com/pyspark-tutorial/"
   ]
  },
  {
   "cell_type": "code",
   "execution_count": 1,
   "id": "dfe8c60e",
   "metadata": {},
   "outputs": [
    {
     "data": {
      "application/vnd.jupyter.widget-view+json": {
       "model_id": "45050b441ccd4d65838f11e2c6823509",
       "version_major": 2,
       "version_minor": 0
      },
      "text/plain": [
       "VBox()"
      ]
     },
     "metadata": {},
     "output_type": "display_data"
    },
    {
     "name": "stdout",
     "output_type": "stream",
     "text": [
      "Starting Spark application\n"
     ]
    },
    {
     "data": {
      "text/html": [
       "<table>\n",
       "<tr><th>ID</th><th>YARN Application ID</th><th>Kind</th><th>State</th><th>Spark UI</th><th>Driver log</th><th>Current session?</th></tr><tr><td>1</td><td>application_1632400200287_0007</td><td>pyspark</td><td>idle</td><td><a target=\"_blank\" href=\"http://ip-172-31-30-134.eu-west-3.compute.internal:20888/proxy/application_1632400200287_0007/\">Link</a></td><td><a target=\"_blank\" href=\"http://ip-172-31-17-134.eu-west-3.compute.internal:8042/node/containerlogs/container_1632400200287_0007_01_000001/livy\">Link</a></td><td>✔</td></tr></table>"
      ],
      "text/plain": [
       "<IPython.core.display.HTML object>"
      ]
     },
     "metadata": {},
     "output_type": "display_data"
    },
    {
     "data": {
      "application/vnd.jupyter.widget-view+json": {
       "model_id": "",
       "version_major": 2,
       "version_minor": 0
      },
      "text/plain": [
       "FloatProgress(value=0.0, bar_style='info', description='Progress:', layout=Layout(height='25px', width='50%'),…"
      ]
     },
     "metadata": {},
     "output_type": "display_data"
    },
    {
     "name": "stdout",
     "output_type": "stream",
     "text": [
      "SparkSession available as 'spark'.\n"
     ]
    },
    {
     "data": {
      "application/vnd.jupyter.widget-view+json": {
       "model_id": "",
       "version_major": 2,
       "version_minor": 0
      },
      "text/plain": [
       "FloatProgress(value=0.0, bar_style='info', description='Progress:', layout=Layout(height='25px', width='50%'),…"
      ]
     },
     "metadata": {},
     "output_type": "display_data"
    },
    {
     "name": "stdout",
     "output_type": "stream",
     "text": [
      "Notebook - Kernel PySpark"
     ]
    }
   ],
   "source": [
    "print('Notebook - Kernel PySpark')"
   ]
  },
  {
   "cell_type": "code",
   "execution_count": 2,
   "id": "88a97ca2",
   "metadata": {},
   "outputs": [
    {
     "data": {
      "application/vnd.jupyter.widget-view+json": {
       "model_id": "ae031fabdbb44fff95bf714e482b27a9",
       "version_major": 2,
       "version_minor": 0
      },
      "text/plain": [
       "VBox()"
      ]
     },
     "metadata": {},
     "output_type": "display_data"
    },
    {
     "data": {
      "application/vnd.jupyter.widget-view+json": {
       "model_id": "",
       "version_major": 2,
       "version_minor": 0
      },
      "text/plain": [
       "FloatProgress(value=0.0, bar_style='info', description='Progress:', layout=Layout(height='25px', width='50%'),…"
      ]
     },
     "metadata": {},
     "output_type": "display_data"
    }
   ],
   "source": [
    "import boto3"
   ]
  },
  {
   "cell_type": "code",
   "execution_count": 3,
   "id": "cd4917e8",
   "metadata": {},
   "outputs": [
    {
     "data": {
      "application/vnd.jupyter.widget-view+json": {
       "model_id": "36ac90fb02364398bf3513448d6208fe",
       "version_major": 2,
       "version_minor": 0
      },
      "text/plain": [
       "VBox()"
      ]
     },
     "metadata": {},
     "output_type": "display_data"
    },
    {
     "data": {
      "application/vnd.jupyter.widget-view+json": {
       "model_id": "",
       "version_major": 2,
       "version_minor": 0
      },
      "text/plain": [
       "FloatProgress(value=0.0, bar_style='info', description='Progress:', layout=Layout(height='25px', width='50%'),…"
      ]
     },
     "metadata": {},
     "output_type": "display_data"
    },
    {
     "name": "stdout",
     "output_type": "stream",
     "text": [
      "sub folder :  data/Test/apple_red_2/\n",
      "sub folder :  data/Test/carrot_1/\n",
      "sub folder :  data/Test/zucchini_1/"
     ]
    }
   ],
   "source": [
    "bucket = 'p8-prevot'\n",
    "\n",
    "prefix = 'data/Test/'\n",
    "\n",
    "client = boto3.client('s3')\n",
    "result = client.list_objects(Bucket=bucket, Prefix=prefix, Delimiter='/')\n",
    "\n",
    "for o in result.get('CommonPrefixes'):\n",
    "    print('sub folder : ', o.get('Prefix'))"
   ]
  },
  {
   "cell_type": "markdown",
   "id": "27118d41",
   "metadata": {},
   "source": [
    "# I. Importation des images (chemin, caractéristiques, données) dans un dataframe Spark"
   ]
  },
  {
   "cell_type": "code",
   "execution_count": 4,
   "id": "127dcf78",
   "metadata": {},
   "outputs": [
    {
     "data": {
      "application/vnd.jupyter.widget-view+json": {
       "model_id": "66d3748eb4874aa0b7b59103688dbfe3",
       "version_major": 2,
       "version_minor": 0
      },
      "text/plain": [
       "VBox()"
      ]
     },
     "metadata": {},
     "output_type": "display_data"
    },
    {
     "data": {
      "application/vnd.jupyter.widget-view+json": {
       "model_id": "",
       "version_major": 2,
       "version_minor": 0
      },
      "text/plain": [
       "FloatProgress(value=0.0, bar_style='info', description='Progress:', layout=Layout(height='25px', width='50%'),…"
      ]
     },
     "metadata": {},
     "output_type": "display_data"
    }
   ],
   "source": [
    "from pyspark.sql import SparkSession\n",
    "from pyspark.ml.image import ImageSchema\n",
    "from pyspark.sql.functions import lit\n",
    "from functools import reduce\n",
    "\n",
    "def image_df(bucket='p8-prevot', prefix = 'data/Test/'):\n",
    "    \n",
    "    '''Permet de créer un dataframe spark contenant les images et leurs caractéristiques'''\n",
    "    client = boto3.client('s3')\n",
    "    result = client.list_objects(Bucket=bucket, Prefix=prefix, Delimiter='/')\n",
    "\n",
    "    dataframes = []\n",
    "    \n",
    "    for o in result.get('CommonPrefixes'):\n",
    "        \n",
    "        folder = o.get('Prefix')\n",
    "        sub_folder = folder.split('/')[2]\n",
    "        data_path = 's3://{}/{}'.format(bucket, folder)\n",
    "        images_df = ImageSchema.readImages(data_path, recursive=True).withColumn(\"label\", lit(sub_folder))\n",
    "        dataframes.append(images_df)\n",
    "        \n",
    "    df = reduce(lambda first, second: first.union(second), dataframes)# repartition dataframe \n",
    "    df = df.repartition(200)# split the data-frame\n",
    "    \n",
    "    return df"
   ]
  },
  {
   "cell_type": "code",
   "execution_count": 5,
   "id": "00059616",
   "metadata": {},
   "outputs": [
    {
     "data": {
      "application/vnd.jupyter.widget-view+json": {
       "model_id": "b67e8a3f1d754bf79fb0efb298e84195",
       "version_major": 2,
       "version_minor": 0
      },
      "text/plain": [
       "VBox()"
      ]
     },
     "metadata": {},
     "output_type": "display_data"
    },
    {
     "data": {
      "application/vnd.jupyter.widget-view+json": {
       "model_id": "",
       "version_major": 2,
       "version_minor": 0
      },
      "text/plain": [
       "FloatProgress(value=0.0, bar_style='info', description='Progress:', layout=Layout(height='25px', width='50%'),…"
      ]
     },
     "metadata": {},
     "output_type": "display_data"
    }
   ],
   "source": [
    "df = image_df()"
   ]
  },
  {
   "cell_type": "code",
   "execution_count": 6,
   "id": "ad6da9eb",
   "metadata": {},
   "outputs": [
    {
     "data": {
      "application/vnd.jupyter.widget-view+json": {
       "model_id": "4b2005aa479840fe9a96181f2c959c8f",
       "version_major": 2,
       "version_minor": 0
      },
      "text/plain": [
       "VBox()"
      ]
     },
     "metadata": {},
     "output_type": "display_data"
    },
    {
     "data": {
      "application/vnd.jupyter.widget-view+json": {
       "model_id": "",
       "version_major": 2,
       "version_minor": 0
      },
      "text/plain": [
       "FloatProgress(value=0.0, bar_style='info', description='Progress:', layout=Layout(height='25px', width='50%'),…"
      ]
     },
     "metadata": {},
     "output_type": "display_data"
    },
    {
     "name": "stdout",
     "output_type": "stream",
     "text": [
      "+--------------------+-----------+\n",
      "|               image|      label|\n",
      "+--------------------+-----------+\n",
      "|[s3://p8-prevot/d...|   carrot_1|\n",
      "|[s3://p8-prevot/d...|apple_red_2|\n",
      "|[s3://p8-prevot/d...|   carrot_1|\n",
      "|[s3://p8-prevot/d...|apple_red_2|\n",
      "|[s3://p8-prevot/d...|apple_red_2|\n",
      "+--------------------+-----------+\n",
      "only showing top 5 rows"
     ]
    }
   ],
   "source": [
    "df.show(5)"
   ]
  },
  {
   "cell_type": "code",
   "execution_count": 7,
   "id": "d144cd30",
   "metadata": {},
   "outputs": [
    {
     "data": {
      "application/vnd.jupyter.widget-view+json": {
       "model_id": "016e03f390e04fe09334735e1056c9e3",
       "version_major": 2,
       "version_minor": 0
      },
      "text/plain": [
       "VBox()"
      ]
     },
     "metadata": {},
     "output_type": "display_data"
    },
    {
     "data": {
      "application/vnd.jupyter.widget-view+json": {
       "model_id": "",
       "version_major": 2,
       "version_minor": 0
      },
      "text/plain": [
       "FloatProgress(value=0.0, bar_style='info', description='Progress:', layout=Layout(height='25px', width='50%'),…"
      ]
     },
     "metadata": {},
     "output_type": "display_data"
    },
    {
     "name": "stdout",
     "output_type": "stream",
     "text": [
      "root\n",
      " |-- image: struct (nullable = true)\n",
      " |    |-- origin: string (nullable = true)\n",
      " |    |-- height: integer (nullable = false)\n",
      " |    |-- width: integer (nullable = false)\n",
      " |    |-- nChannels: integer (nullable = false)\n",
      " |    |-- mode: integer (nullable = false)\n",
      " |    |-- data: binary (nullable = false)\n",
      " |-- label: string (nullable = false)"
     ]
    }
   ],
   "source": [
    "df.printSchema()"
   ]
  },
  {
   "cell_type": "code",
   "execution_count": 8,
   "id": "9dcda0ce",
   "metadata": {},
   "outputs": [
    {
     "data": {
      "application/vnd.jupyter.widget-view+json": {
       "model_id": "6e9b21f51e4846a9baad91d090646ec6",
       "version_major": 2,
       "version_minor": 0
      },
      "text/plain": [
       "VBox()"
      ]
     },
     "metadata": {},
     "output_type": "display_data"
    },
    {
     "data": {
      "application/vnd.jupyter.widget-view+json": {
       "model_id": "",
       "version_major": 2,
       "version_minor": 0
      },
      "text/plain": [
       "FloatProgress(value=0.0, bar_style='info', description='Progress:', layout=Layout(height='25px', width='50%'),…"
      ]
     },
     "metadata": {},
     "output_type": "display_data"
    }
   ],
   "source": [
    "first_row = df.first()"
   ]
  },
  {
   "cell_type": "code",
   "execution_count": 9,
   "id": "839e9281",
   "metadata": {},
   "outputs": [
    {
     "data": {
      "application/vnd.jupyter.widget-view+json": {
       "model_id": "2f8833d1cd0143ef832c71b40fdc017f",
       "version_major": 2,
       "version_minor": 0
      },
      "text/plain": [
       "VBox()"
      ]
     },
     "metadata": {},
     "output_type": "display_data"
    },
    {
     "data": {
      "application/vnd.jupyter.widget-view+json": {
       "model_id": "",
       "version_major": 2,
       "version_minor": 0
      },
      "text/plain": [
       "FloatProgress(value=0.0, bar_style='info', description='Progress:', layout=Layout(height='25px', width='50%'),…"
      ]
     },
     "metadata": {},
     "output_type": "display_data"
    }
   ],
   "source": [
    "data_row = first_row.asDict()['image']['data']"
   ]
  },
  {
   "cell_type": "code",
   "execution_count": 10,
   "id": "7710afa7",
   "metadata": {
    "scrolled": true
   },
   "outputs": [
    {
     "data": {
      "application/vnd.jupyter.widget-view+json": {
       "model_id": "03182f640194482ead07e84fd09db582",
       "version_major": 2,
       "version_minor": 0
      },
      "text/plain": [
       "VBox()"
      ]
     },
     "metadata": {},
     "output_type": "display_data"
    },
    {
     "data": {
      "application/vnd.jupyter.widget-view+json": {
       "model_id": "",
       "version_major": 2,
       "version_minor": 0
      },
      "text/plain": [
       "FloatProgress(value=0.0, bar_style='info', description='Progress:', layout=Layout(height='25px', width='50%'),…"
      ]
     },
     "metadata": {},
     "output_type": "display_data"
    }
   ],
   "source": [
    "import numpy as np\n",
    "array_image = np.array(data_row).reshape(first_row.asDict()['image']['height'],\n",
    "                           first_row.asDict()['image']['width'],\n",
    "                           first_row.asDict()['image']['nChannels'])"
   ]
  },
  {
   "cell_type": "code",
   "execution_count": 11,
   "id": "919ba873",
   "metadata": {
    "scrolled": true
   },
   "outputs": [
    {
     "data": {
      "application/vnd.jupyter.widget-view+json": {
       "model_id": "485a1ea533304acbb94ecb622aa000ae",
       "version_major": 2,
       "version_minor": 0
      },
      "text/plain": [
       "VBox()"
      ]
     },
     "metadata": {},
     "output_type": "display_data"
    },
    {
     "data": {
      "application/vnd.jupyter.widget-view+json": {
       "model_id": "",
       "version_major": 2,
       "version_minor": 0
      },
      "text/plain": [
       "FloatProgress(value=0.0, bar_style='info', description='Progress:', layout=Layout(height='25px', width='50%'),…"
      ]
     },
     "metadata": {},
     "output_type": "display_data"
    },
    {
     "name": "stdout",
     "output_type": "stream",
     "text": [
      "(641, 179, 3)"
     ]
    }
   ],
   "source": [
    "array_image.shape"
   ]
  },
  {
   "cell_type": "markdown",
   "id": "68192dae",
   "metadata": {},
   "source": [
    "# II. Extraction de features (Descripteurs des points d'intérêts avec ORB)"
   ]
  },
  {
   "cell_type": "code",
   "execution_count": 12,
   "id": "b2413e32",
   "metadata": {},
   "outputs": [
    {
     "data": {
      "application/vnd.jupyter.widget-view+json": {
       "model_id": "aabf0edb80f54016b8a883dfce69ed6a",
       "version_major": 2,
       "version_minor": 0
      },
      "text/plain": [
       "VBox()"
      ]
     },
     "metadata": {},
     "output_type": "display_data"
    },
    {
     "data": {
      "application/vnd.jupyter.widget-view+json": {
       "model_id": "",
       "version_major": 2,
       "version_minor": 0
      },
      "text/plain": [
       "FloatProgress(value=0.0, bar_style='info', description='Progress:', layout=Layout(height='25px', width='50%'),…"
      ]
     },
     "metadata": {},
     "output_type": "display_data"
    }
   ],
   "source": [
    "import cv2 as cv"
   ]
  },
  {
   "cell_type": "markdown",
   "id": "b7d230de",
   "metadata": {},
   "source": [
    "On va spécifier qu'il doit y avoir maximum 30 points d'intérêt."
   ]
  },
  {
   "cell_type": "code",
   "execution_count": 13,
   "id": "392b2bc2",
   "metadata": {},
   "outputs": [
    {
     "data": {
      "application/vnd.jupyter.widget-view+json": {
       "model_id": "33a57872c1254eb99b2e022235fb39bb",
       "version_major": 2,
       "version_minor": 0
      },
      "text/plain": [
       "VBox()"
      ]
     },
     "metadata": {},
     "output_type": "display_data"
    },
    {
     "data": {
      "application/vnd.jupyter.widget-view+json": {
       "model_id": "",
       "version_major": 2,
       "version_minor": 0
      },
      "text/plain": [
       "FloatProgress(value=0.0, bar_style='info', description='Progress:', layout=Layout(height='25px', width='50%'),…"
      ]
     },
     "metadata": {},
     "output_type": "display_data"
    }
   ],
   "source": [
    "orb = cv.ORB_create(nfeatures=30)\n",
    "kp, des = orb.detectAndCompute(array_image,None)"
   ]
  },
  {
   "cell_type": "code",
   "execution_count": 14,
   "id": "cca436ef",
   "metadata": {
    "scrolled": true
   },
   "outputs": [
    {
     "data": {
      "application/vnd.jupyter.widget-view+json": {
       "model_id": "4dfab643225e4b64b3d965e981edb00c",
       "version_major": 2,
       "version_minor": 0
      },
      "text/plain": [
       "VBox()"
      ]
     },
     "metadata": {},
     "output_type": "display_data"
    },
    {
     "data": {
      "application/vnd.jupyter.widget-view+json": {
       "model_id": "",
       "version_major": 2,
       "version_minor": 0
      },
      "text/plain": [
       "FloatProgress(value=0.0, bar_style='info', description='Progress:', layout=Layout(height='25px', width='50%'),…"
      ]
     },
     "metadata": {},
     "output_type": "display_data"
    },
    {
     "name": "stdout",
     "output_type": "stream",
     "text": [
      "array([[156,  70,  98, 137, 222,  57, 250, 216, 191,  85, 247, 151, 203,\n",
      "        206, 185,  72, 127, 137, 239, 254, 186, 167, 111, 211, 150, 101,\n",
      "        139, 204, 183, 255,  33, 212],\n",
      "       [191, 104, 240, 229, 236,  27, 255, 210,  95, 166, 180, 142, 139,\n",
      "         42, 215,  10, 255, 237,  31, 255, 233, 118, 228, 202, 190, 221,\n",
      "        239, 180, 255, 253, 113, 209],\n",
      "       [226,  41, 192, 157, 108,  11, 124, 101,  29, 170, 240,  10, 174,\n",
      "         42,  84,  81, 238, 239, 127, 194, 120, 123, 193, 200, 182, 184,\n",
      "        223, 184,  20, 168, 242, 137],\n",
      "       [200, 165,  82, 222, 110, 152, 239, 119, 173,   0, 250,  26, 239,\n",
      "        235, 156, 215, 106, 231, 110,  42, 112,  43, 162, 237, 180, 249,\n",
      "        102,   8,  70, 138, 163, 168],\n",
      "       [ 66, 165,  98, 191, 124, 168, 248, 103, 173,   1, 251, 138, 238,\n",
      "        190,   4,  83, 110, 247, 127, 128, 144, 251, 195, 229, 190, 124,\n",
      "        218, 202,  69,   2, 163, 139],\n",
      "       [204, 150, 114, 154, 254, 249, 250, 216,  61,  81, 255, 178, 205,\n",
      "        222, 168,  96, 126, 155, 254, 178, 182, 183, 111, 231, 150, 116,\n",
      "        138, 207, 167, 135, 165, 213],\n",
      "       [214, 245,  86, 167, 172,  75, 126, 253, 189, 178, 179, 186, 207,\n",
      "        127,  12,  83, 127, 215, 255, 226, 120, 231, 203, 254, 190, 242,\n",
      "        207, 183, 103, 122, 199,  19],\n",
      "       [120, 221,  59, 236, 157,  68,  87, 189, 193, 200, 140,  10, 122,\n",
      "        253,  32, 118, 216, 246,  61, 234, 233,  43, 248, 175, 251, 237,\n",
      "        133,  59,  43,  58, 244, 123],\n",
      "       [ 47,  24, 242, 248, 101,  53, 217,  82, 159, 219, 212, 191,  29,\n",
      "        191, 247,  44, 207, 185, 151, 149, 142,  79,  98, 194, 219, 223,\n",
      "        250, 190, 151, 253,  84, 247],\n",
      "       [ 78, 177, 179, 232,  11, 196, 187,  17, 142,  81,  84,  34, 157,\n",
      "        215,  96, 230, 102, 153, 191, 209,  83,  26, 178, 192, 217, 193,\n",
      "        170, 234,  22,   6,  37, 115],\n",
      "       [251, 120, 242,  86,  79, 212, 217,  22, 243,  95, 182,  31,  43,\n",
      "        156, 214, 191, 175, 226, 245, 140, 143, 111, 182, 161,  83, 251,\n",
      "         80, 139, 239, 132, 110,  95],\n",
      "       [161, 134,  76, 235, 212,  47,  97,  59,  86,  51,  87,  86, 211,\n",
      "         32, 154,  97,  89, 138,   6,  44, 191, 180, 109,  31, 204, 139,\n",
      "        240,  84,  60, 136, 216, 128],\n",
      "       [ 31, 127, 106,   1, 242,  58, 251, 208, 105, 204, 126, 231, 105,\n",
      "         78, 151,  48,  62, 237, 215, 247, 133, 176, 173, 238,  62,  93,\n",
      "        163, 193, 239, 183, 107, 213],\n",
      "       [  9, 197,  28, 235, 172,  63,  68, 191,  94, 123,  95,  84, 215,\n",
      "         48, 154, 106,  17,  66,  60,  44, 191, 184, 107,  55, 230, 239,\n",
      "        244, 212, 152, 219, 216,   9],\n",
      "       [159, 127, 110, 161, 246, 150, 255, 244, 125, 204, 246, 167,  77,\n",
      "         14, 151,  49, 126, 237, 223, 255, 228, 245, 181, 238, 126, 121,\n",
      "        239, 132, 111, 181, 111, 221],\n",
      "       [159, 126, 111, 181, 231, 214, 255, 244, 189, 206, 214, 167, 125,\n",
      "        143, 183,  41, 255, 237, 255, 239, 237, 245,  53, 238, 246, 251,\n",
      "        239, 128, 103, 181, 119, 249]], dtype=uint8)"
     ]
    }
   ],
   "source": [
    "des"
   ]
  },
  {
   "cell_type": "markdown",
   "id": "06444652",
   "metadata": {},
   "source": [
    "Chaque point d'intérêt est décrit par un descripteurs 32 valeurs (liés à l'intensité du gradient dans chaque direction autour du point d'intérêt)"
   ]
  },
  {
   "cell_type": "code",
   "execution_count": 15,
   "id": "0cca5f41",
   "metadata": {},
   "outputs": [
    {
     "data": {
      "application/vnd.jupyter.widget-view+json": {
       "model_id": "b59efe03846a4d4cb48f7763b6c56fa4",
       "version_major": 2,
       "version_minor": 0
      },
      "text/plain": [
       "VBox()"
      ]
     },
     "metadata": {},
     "output_type": "display_data"
    },
    {
     "data": {
      "application/vnd.jupyter.widget-view+json": {
       "model_id": "",
       "version_major": 2,
       "version_minor": 0
      },
      "text/plain": [
       "FloatProgress(value=0.0, bar_style='info', description='Progress:', layout=Layout(height='25px', width='50%'),…"
      ]
     },
     "metadata": {},
     "output_type": "display_data"
    }
   ],
   "source": [
    "def orb_descriptors(img):\n",
    "    \n",
    "    height = img[1]\n",
    "    width = img[2]\n",
    "    nchannels = img[3]\n",
    "    data = img[5]\n",
    "    \n",
    "    img_array = np.array(data).reshape(height, width, nchannels)\n",
    "    \n",
    "    orb = cv.ORB_create(nfeatures=30)\n",
    "    kp, des = orb.detectAndCompute(img_array,None)\n",
    "    \n",
    "    des = des.tolist()\n",
    "    \n",
    "    return des"
   ]
  },
  {
   "cell_type": "code",
   "execution_count": 16,
   "id": "192b12b7",
   "metadata": {},
   "outputs": [
    {
     "data": {
      "application/vnd.jupyter.widget-view+json": {
       "model_id": "49e471deb29b469b8186b0a8b06540f6",
       "version_major": 2,
       "version_minor": 0
      },
      "text/plain": [
       "VBox()"
      ]
     },
     "metadata": {},
     "output_type": "display_data"
    },
    {
     "data": {
      "application/vnd.jupyter.widget-view+json": {
       "model_id": "",
       "version_major": 2,
       "version_minor": 0
      },
      "text/plain": [
       "FloatProgress(value=0.0, bar_style='info', description='Progress:', layout=Layout(height='25px', width='50%'),…"
      ]
     },
     "metadata": {},
     "output_type": "display_data"
    },
    {
     "name": "stdout",
     "output_type": "stream",
     "text": [
      "[[156, 70, 98, 137, 222, 57, 250, 216, 191, 85, 247, 151, 203, 206, 185, 72, 127, 137, 239, 254, 186, 167, 111, 211, 150, 101, 139, 204, 183, 255, 33, 212], [191, 104, 240, 229, 236, 27, 255, 210, 95, 166, 180, 142, 139, 42, 215, 10, 255, 237, 31, 255, 233, 118, 228, 202, 190, 221, 239, 180, 255, 253, 113, 209], [226, 41, 192, 157, 108, 11, 124, 101, 29, 170, 240, 10, 174, 42, 84, 81, 238, 239, 127, 194, 120, 123, 193, 200, 182, 184, 223, 184, 20, 168, 242, 137], [200, 165, 82, 222, 110, 152, 239, 119, 173, 0, 250, 26, 239, 235, 156, 215, 106, 231, 110, 42, 112, 43, 162, 237, 180, 249, 102, 8, 70, 138, 163, 168], [66, 165, 98, 191, 124, 168, 248, 103, 173, 1, 251, 138, 238, 190, 4, 83, 110, 247, 127, 128, 144, 251, 195, 229, 190, 124, 218, 202, 69, 2, 163, 139], [204, 150, 114, 154, 254, 249, 250, 216, 61, 81, 255, 178, 205, 222, 168, 96, 126, 155, 254, 178, 182, 183, 111, 231, 150, 116, 138, 207, 167, 135, 165, 213], [214, 245, 86, 167, 172, 75, 126, 253, 189, 178, 179, 186, 207, 127, 12, 83, 127, 215, 255, 226, 120, 231, 203, 254, 190, 242, 207, 183, 103, 122, 199, 19], [120, 221, 59, 236, 157, 68, 87, 189, 193, 200, 140, 10, 122, 253, 32, 118, 216, 246, 61, 234, 233, 43, 248, 175, 251, 237, 133, 59, 43, 58, 244, 123], [47, 24, 242, 248, 101, 53, 217, 82, 159, 219, 212, 191, 29, 191, 247, 44, 207, 185, 151, 149, 142, 79, 98, 194, 219, 223, 250, 190, 151, 253, 84, 247], [78, 177, 179, 232, 11, 196, 187, 17, 142, 81, 84, 34, 157, 215, 96, 230, 102, 153, 191, 209, 83, 26, 178, 192, 217, 193, 170, 234, 22, 6, 37, 115], [251, 120, 242, 86, 79, 212, 217, 22, 243, 95, 182, 31, 43, 156, 214, 191, 175, 226, 245, 140, 143, 111, 182, 161, 83, 251, 80, 139, 239, 132, 110, 95], [161, 134, 76, 235, 212, 47, 97, 59, 86, 51, 87, 86, 211, 32, 154, 97, 89, 138, 6, 44, 191, 180, 109, 31, 204, 139, 240, 84, 60, 136, 216, 128], [31, 127, 106, 1, 242, 58, 251, 208, 105, 204, 126, 231, 105, 78, 151, 48, 62, 237, 215, 247, 133, 176, 173, 238, 62, 93, 163, 193, 239, 183, 107, 213], [9, 197, 28, 235, 172, 63, 68, 191, 94, 123, 95, 84, 215, 48, 154, 106, 17, 66, 60, 44, 191, 184, 107, 55, 230, 239, 244, 212, 152, 219, 216, 9], [159, 127, 110, 161, 246, 150, 255, 244, 125, 204, 246, 167, 77, 14, 151, 49, 126, 237, 223, 255, 228, 245, 181, 238, 126, 121, 239, 132, 111, 181, 111, 221], [159, 126, 111, 181, 231, 214, 255, 244, 189, 206, 214, 167, 125, 143, 183, 41, 255, 237, 255, 239, 237, 245, 53, 238, 246, 251, 239, 128, 103, 181, 119, 249]]"
     ]
    }
   ],
   "source": [
    "orb_descriptors(first_row.asDict()['image'])"
   ]
  },
  {
   "cell_type": "code",
   "execution_count": 17,
   "id": "15c4e036",
   "metadata": {},
   "outputs": [
    {
     "data": {
      "application/vnd.jupyter.widget-view+json": {
       "model_id": "02f1f53d0cda4df7b7f4851fecaee6d1",
       "version_major": 2,
       "version_minor": 0
      },
      "text/plain": [
       "VBox()"
      ]
     },
     "metadata": {},
     "output_type": "display_data"
    },
    {
     "data": {
      "application/vnd.jupyter.widget-view+json": {
       "model_id": "",
       "version_major": 2,
       "version_minor": 0
      },
      "text/plain": [
       "FloatProgress(value=0.0, bar_style='info', description='Progress:', layout=Layout(height='25px', width='50%'),…"
      ]
     },
     "metadata": {},
     "output_type": "display_data"
    }
   ],
   "source": [
    "from pyspark.sql.functions import udf\n",
    "from pyspark.sql.types import *"
   ]
  },
  {
   "cell_type": "code",
   "execution_count": 18,
   "id": "206ab1d6",
   "metadata": {},
   "outputs": [
    {
     "data": {
      "application/vnd.jupyter.widget-view+json": {
       "model_id": "30fa5e27482a4f0081be1bed6d5b65a8",
       "version_major": 2,
       "version_minor": 0
      },
      "text/plain": [
       "VBox()"
      ]
     },
     "metadata": {},
     "output_type": "display_data"
    },
    {
     "data": {
      "application/vnd.jupyter.widget-view+json": {
       "model_id": "",
       "version_major": 2,
       "version_minor": 0
      },
      "text/plain": [
       "FloatProgress(value=0.0, bar_style='info', description='Progress:', layout=Layout(height='25px', width='50%'),…"
      ]
     },
     "metadata": {},
     "output_type": "display_data"
    }
   ],
   "source": [
    "orb_UDF = udf(lambda img: orb_descriptors(img), ArrayType(ArrayType(IntegerType())))"
   ]
  },
  {
   "cell_type": "code",
   "execution_count": 19,
   "id": "d5a72f19",
   "metadata": {},
   "outputs": [
    {
     "data": {
      "application/vnd.jupyter.widget-view+json": {
       "model_id": "28ef851d6e40412cbaeee81fb73def5d",
       "version_major": 2,
       "version_minor": 0
      },
      "text/plain": [
       "VBox()"
      ]
     },
     "metadata": {},
     "output_type": "display_data"
    },
    {
     "data": {
      "application/vnd.jupyter.widget-view+json": {
       "model_id": "",
       "version_major": 2,
       "version_minor": 0
      },
      "text/plain": [
       "FloatProgress(value=0.0, bar_style='info', description='Progress:', layout=Layout(height='25px', width='50%'),…"
      ]
     },
     "metadata": {},
     "output_type": "display_data"
    }
   ],
   "source": [
    "orb_df = df.withColumn(\"descriptors ORB\", orb_UDF(\"image\"))"
   ]
  },
  {
   "cell_type": "code",
   "execution_count": 20,
   "id": "6d3f0b90",
   "metadata": {},
   "outputs": [
    {
     "data": {
      "application/vnd.jupyter.widget-view+json": {
       "model_id": "83ca1af6120d41fba01a1187e0d61d47",
       "version_major": 2,
       "version_minor": 0
      },
      "text/plain": [
       "VBox()"
      ]
     },
     "metadata": {},
     "output_type": "display_data"
    },
    {
     "data": {
      "application/vnd.jupyter.widget-view+json": {
       "model_id": "",
       "version_major": 2,
       "version_minor": 0
      },
      "text/plain": [
       "FloatProgress(value=0.0, bar_style='info', description='Progress:', layout=Layout(height='25px', width='50%'),…"
      ]
     },
     "metadata": {},
     "output_type": "display_data"
    }
   ],
   "source": [
    "first = orb_df.first()"
   ]
  },
  {
   "cell_type": "markdown",
   "id": "93ee6026",
   "metadata": {},
   "source": [
    "Il y a bien 26 descripteurs de 32 composantes chacun"
   ]
  },
  {
   "cell_type": "code",
   "execution_count": 21,
   "id": "947d8575",
   "metadata": {
    "scrolled": true
   },
   "outputs": [
    {
     "data": {
      "application/vnd.jupyter.widget-view+json": {
       "model_id": "bc5dd2e43f6f422b98f6bce79f75c282",
       "version_major": 2,
       "version_minor": 0
      },
      "text/plain": [
       "VBox()"
      ]
     },
     "metadata": {},
     "output_type": "display_data"
    },
    {
     "data": {
      "application/vnd.jupyter.widget-view+json": {
       "model_id": "",
       "version_major": 2,
       "version_minor": 0
      },
      "text/plain": [
       "FloatProgress(value=0.0, bar_style='info', description='Progress:', layout=Layout(height='25px', width='50%'),…"
      ]
     },
     "metadata": {},
     "output_type": "display_data"
    },
    {
     "name": "stdout",
     "output_type": "stream",
     "text": [
      "16"
     ]
    }
   ],
   "source": [
    "len(first['descriptors ORB'])"
   ]
  },
  {
   "cell_type": "code",
   "execution_count": 22,
   "id": "322cbc04",
   "metadata": {},
   "outputs": [
    {
     "data": {
      "application/vnd.jupyter.widget-view+json": {
       "model_id": "053746097ad34b2c9f2ffa7d0dededc6",
       "version_major": 2,
       "version_minor": 0
      },
      "text/plain": [
       "VBox()"
      ]
     },
     "metadata": {},
     "output_type": "display_data"
    },
    {
     "data": {
      "application/vnd.jupyter.widget-view+json": {
       "model_id": "",
       "version_major": 2,
       "version_minor": 0
      },
      "text/plain": [
       "FloatProgress(value=0.0, bar_style='info', description='Progress:', layout=Layout(height='25px', width='50%'),…"
      ]
     },
     "metadata": {},
     "output_type": "display_data"
    },
    {
     "name": "stdout",
     "output_type": "stream",
     "text": [
      "root\n",
      " |-- image: struct (nullable = true)\n",
      " |    |-- origin: string (nullable = true)\n",
      " |    |-- height: integer (nullable = false)\n",
      " |    |-- width: integer (nullable = false)\n",
      " |    |-- nChannels: integer (nullable = false)\n",
      " |    |-- mode: integer (nullable = false)\n",
      " |    |-- data: binary (nullable = false)\n",
      " |-- label: string (nullable = false)\n",
      " |-- descriptors ORB: array (nullable = true)\n",
      " |    |-- element: array (containsNull = true)\n",
      " |    |    |-- element: integer (containsNull = true)"
     ]
    }
   ],
   "source": [
    "orb_df.printSchema()"
   ]
  },
  {
   "cell_type": "code",
   "execution_count": 23,
   "id": "1e35a0ac",
   "metadata": {},
   "outputs": [
    {
     "data": {
      "application/vnd.jupyter.widget-view+json": {
       "model_id": "a6e871a1ed7d40c6ae2d15cbda9ac3b7",
       "version_major": 2,
       "version_minor": 0
      },
      "text/plain": [
       "VBox()"
      ]
     },
     "metadata": {},
     "output_type": "display_data"
    },
    {
     "data": {
      "application/vnd.jupyter.widget-view+json": {
       "model_id": "",
       "version_major": 2,
       "version_minor": 0
      },
      "text/plain": [
       "FloatProgress(value=0.0, bar_style='info', description='Progress:', layout=Layout(height='25px', width='50%'),…"
      ]
     },
     "metadata": {},
     "output_type": "display_data"
    }
   ],
   "source": [
    "from pyspark.sql.functions import explode\n",
    "\n",
    "exploded_df = orb_df.select(orb_df['image'],orb_df['label'],explode(orb_df['descriptors ORB']))"
   ]
  },
  {
   "cell_type": "markdown",
   "id": "a2552eb1",
   "metadata": {},
   "source": [
    "Ce DataFrame contient une ligne par descripteur, (au maximum 30 descripteurs par image)"
   ]
  },
  {
   "cell_type": "code",
   "execution_count": 24,
   "id": "d29490ea",
   "metadata": {
    "scrolled": true
   },
   "outputs": [
    {
     "data": {
      "application/vnd.jupyter.widget-view+json": {
       "model_id": "f50cf6ab8ea64a63b03035f55b9d533e",
       "version_major": 2,
       "version_minor": 0
      },
      "text/plain": [
       "VBox()"
      ]
     },
     "metadata": {},
     "output_type": "display_data"
    },
    {
     "data": {
      "application/vnd.jupyter.widget-view+json": {
       "model_id": "",
       "version_major": 2,
       "version_minor": 0
      },
      "text/plain": [
       "FloatProgress(value=0.0, bar_style='info', description='Progress:', layout=Layout(height='25px', width='50%'),…"
      ]
     },
     "metadata": {},
     "output_type": "display_data"
    },
    {
     "name": "stdout",
     "output_type": "stream",
     "text": [
      "7614"
     ]
    }
   ],
   "source": [
    "exploded_df.count()"
   ]
  },
  {
   "cell_type": "code",
   "execution_count": 25,
   "id": "329af22c",
   "metadata": {},
   "outputs": [
    {
     "data": {
      "application/vnd.jupyter.widget-view+json": {
       "model_id": "47864adb9b27476496c8c71a369b9bdf",
       "version_major": 2,
       "version_minor": 0
      },
      "text/plain": [
       "VBox()"
      ]
     },
     "metadata": {},
     "output_type": "display_data"
    },
    {
     "data": {
      "application/vnd.jupyter.widget-view+json": {
       "model_id": "",
       "version_major": 2,
       "version_minor": 0
      },
      "text/plain": [
       "FloatProgress(value=0.0, bar_style='info', description='Progress:', layout=Layout(height='25px', width='50%'),…"
      ]
     },
     "metadata": {},
     "output_type": "display_data"
    },
    {
     "name": "stdout",
     "output_type": "stream",
     "text": [
      "root\n",
      " |-- image: struct (nullable = true)\n",
      " |    |-- origin: string (nullable = true)\n",
      " |    |-- height: integer (nullable = false)\n",
      " |    |-- width: integer (nullable = false)\n",
      " |    |-- nChannels: integer (nullable = false)\n",
      " |    |-- mode: integer (nullable = false)\n",
      " |    |-- data: binary (nullable = false)\n",
      " |-- label: string (nullable = false)\n",
      " |-- col: array (nullable = true)\n",
      " |    |-- element: integer (containsNull = true)"
     ]
    }
   ],
   "source": [
    "exploded_df.printSchema()"
   ]
  },
  {
   "cell_type": "code",
   "execution_count": 26,
   "id": "3c4a8036",
   "metadata": {},
   "outputs": [
    {
     "data": {
      "application/vnd.jupyter.widget-view+json": {
       "model_id": "7b3f70a8014848c491e154aa35c73740",
       "version_major": 2,
       "version_minor": 0
      },
      "text/plain": [
       "VBox()"
      ]
     },
     "metadata": {},
     "output_type": "display_data"
    },
    {
     "data": {
      "application/vnd.jupyter.widget-view+json": {
       "model_id": "",
       "version_major": 2,
       "version_minor": 0
      },
      "text/plain": [
       "FloatProgress(value=0.0, bar_style='info', description='Progress:', layout=Layout(height='25px', width='50%'),…"
      ]
     },
     "metadata": {},
     "output_type": "display_data"
    },
    {
     "name": "stdout",
     "output_type": "stream",
     "text": [
      "root\n",
      " |-- Descripteur: array (nullable = true)\n",
      " |    |-- element: integer (containsNull = true)"
     ]
    }
   ],
   "source": [
    "desc_column_df = exploded_df.select('col').withColumnRenamed(\"col\",\"Descripteur\")\n",
    "desc_column_df.printSchema()"
   ]
  },
  {
   "cell_type": "code",
   "execution_count": 27,
   "id": "4b586911",
   "metadata": {
    "scrolled": false
   },
   "outputs": [
    {
     "data": {
      "application/vnd.jupyter.widget-view+json": {
       "model_id": "e7e503484b4a411986208676163fe99e",
       "version_major": 2,
       "version_minor": 0
      },
      "text/plain": [
       "VBox()"
      ]
     },
     "metadata": {},
     "output_type": "display_data"
    },
    {
     "data": {
      "application/vnd.jupyter.widget-view+json": {
       "model_id": "",
       "version_major": 2,
       "version_minor": 0
      },
      "text/plain": [
       "FloatProgress(value=0.0, bar_style='info', description='Progress:', layout=Layout(height='25px', width='50%'),…"
      ]
     },
     "metadata": {},
     "output_type": "display_data"
    },
    {
     "name": "stdout",
     "output_type": "stream",
     "text": [
      "+--------------------------------------------------------------------------------------------------------------------------------------------------------+\n",
      "|Descripteur                                                                                                                                             |\n",
      "+--------------------------------------------------------------------------------------------------------------------------------------------------------+\n",
      "|[56, 93, 59, 254, 15, 196, 149, 103, 220, 70, 204, 2, 182, 252, 33, 96, 200, 179, 187, 1, 106, 171, 114, 171, 241, 231, 218, 27, 21, 88, 116, 250]      |\n",
      "|[182, 253, 70, 159, 222, 139, 254, 234, 61, 34, 250, 50, 236, 250, 49, 65, 127, 255, 127, 227, 112, 191, 73, 239, 180, 182, 143, 130, 85, 120, 97, 139] |\n",
      "|[182, 77, 86, 191, 252, 43, 190, 226, 61, 162, 250, 18, 236, 234, 33, 64, 255, 239, 127, 227, 96, 183, 201, 239, 180, 246, 207, 130, 85, 120, 241, 131] |\n",
      "|[162, 189, 6, 157, 220, 139, 190, 238, 190, 42, 250, 162, 172, 238, 33, 81, 127, 255, 223, 225, 98, 187, 1, 255, 60, 54, 142, 128, 85, 88, 241, 152]    |\n",
      "|[24, 149, 17, 250, 157, 197, 148, 111, 30, 9, 217, 18, 252, 250, 40, 96, 217, 27, 27, 1, 123, 43, 90, 151, 233, 247, 154, 75, 16, 8, 177, 139]          |\n",
      "|[253, 110, 142, 36, 128, 30, 110, 208, 240, 174, 167, 92, 83, 66, 19, 27, 57, 228, 108, 238, 108, 247, 136, 10, 242, 235, 101, 53, 105, 243, 202, 0]    |\n",
      "|[13, 166, 148, 1, 178, 191, 168, 151, 126, 241, 110, 212, 157, 34, 202, 252, 55, 15, 104, 28, 183, 216, 237, 86, 140, 223, 55, 68, 202, 69, 139, 165]   |\n",
      "|[24, 145, 21, 186, 189, 197, 20, 239, 158, 25, 217, 114, 222, 250, 40, 224, 217, 27, 190, 1, 91, 171, 90, 151, 169, 247, 58, 95, 152, 10, 173, 3]       |\n",
      "|[168, 29, 61, 254, 13, 196, 149, 103, 151, 91, 192, 18, 190, 253, 32, 97, 200, 179, 187, 1, 107, 47, 114, 187, 243, 243, 218, 27, 18, 88, 180, 58]      |\n",
      "|[253, 110, 174, 36, 173, 63, 70, 208, 241, 254, 183, 93, 67, 232, 83, 27, 153, 228, 109, 127, 172, 247, 216, 10, 243, 203, 229, 181, 232, 119, 90, 82]  |\n",
      "|[253, 110, 142, 36, 129, 62, 102, 210, 240, 174, 175, 77, 83, 163, 83, 27, 169, 228, 108, 110, 236, 247, 152, 10, 243, 203, 229, 21, 233, 243, 106, 66] |\n",
      "|[60, 93, 106, 78, 85, 214, 215, 112, 81, 140, 255, 2, 122, 221, 183, 164, 88, 248, 151, 106, 200, 162, 120, 172, 115, 237, 128, 9, 119, 191, 124, 226]  |\n",
      "|[168, 148, 53, 250, 45, 205, 17, 175, 223, 91, 180, 56, 190, 189, 40, 111, 201, 19, 191, 9, 59, 111, 114, 183, 199, 251, 80, 123, 82, 8, 132, 59]       |\n",
      "|[152, 145, 28, 187, 157, 199, 20, 253, 151, 57, 209, 114, 222, 215, 40, 193, 205, 27, 174, 1, 123, 109, 91, 149, 169, 243, 127, 87, 24, 8, 173, 51]     |\n",
      "|[221, 61, 190, 54, 129, 126, 102, 208, 241, 238, 175, 13, 87, 249, 67, 27, 185, 230, 108, 110, 173, 243, 152, 10, 219, 203, 101, 4, 233, 115, 74, 82]   |\n",
      "|[85, 165, 60, 115, 176, 190, 122, 186, 126, 121, 175, 80, 219, 114, 222, 112, 183, 3, 124, 156, 183, 216, 109, 119, 142, 223, 51, 196, 136, 193, 137, 5]|\n",
      "|[183, 68, 17, 136, 221, 103, 198, 72, 201, 234, 185, 90, 82, 88, 61, 163, 217, 128, 18, 51, 45, 39, 88, 202, 49, 24, 131, 62, 89, 123, 88, 134]         |\n",
      "|[34, 212, 181, 219, 109, 249, 49, 175, 159, 91, 124, 48, 252, 247, 172, 108, 195, 19, 182, 0, 115, 44, 106, 243, 71, 182, 112, 251, 22, 72, 133, 239]   |\n",
      "|[152, 208, 29, 249, 13, 223, 20, 173, 151, 59, 134, 50, 222, 87, 40, 233, 197, 147, 174, 0, 127, 77, 91, 151, 227, 211, 119, 87, 56, 24, 140, 19]       |\n",
      "|[193, 133, 60, 62, 184, 140, 94, 187, 254, 123, 163, 88, 223, 122, 26, 113, 135, 7, 124, 39, 244, 77, 139, 119, 233, 251, 119, 220, 80, 0, 129, 3]      |\n",
      "+--------------------------------------------------------------------------------------------------------------------------------------------------------+\n",
      "only showing top 20 rows"
     ]
    }
   ],
   "source": [
    "desc_column_df.show(truncate=False)"
   ]
  },
  {
   "cell_type": "markdown",
   "id": "8ac91f43",
   "metadata": {},
   "source": [
    "# III. Réduction dimensionnelle (ACP sur les points d'intérêts)"
   ]
  },
  {
   "cell_type": "code",
   "execution_count": 28,
   "id": "914a026a",
   "metadata": {},
   "outputs": [
    {
     "data": {
      "application/vnd.jupyter.widget-view+json": {
       "model_id": "8a379f99a91f459ab3baca730508b2c9",
       "version_major": 2,
       "version_minor": 0
      },
      "text/plain": [
       "VBox()"
      ]
     },
     "metadata": {},
     "output_type": "display_data"
    },
    {
     "data": {
      "application/vnd.jupyter.widget-view+json": {
       "model_id": "",
       "version_major": 2,
       "version_minor": 0
      },
      "text/plain": [
       "FloatProgress(value=0.0, bar_style='info', description='Progress:', layout=Layout(height='25px', width='50%'),…"
      ]
     },
     "metadata": {},
     "output_type": "display_data"
    }
   ],
   "source": [
    "from pyspark.ml.feature import PCA"
   ]
  },
  {
   "cell_type": "markdown",
   "id": "2b751009",
   "metadata": {},
   "source": [
    "On spécifie au maximum 20 composantes pour les descripteurs réduits"
   ]
  },
  {
   "cell_type": "markdown",
   "id": "cd536b04",
   "metadata": {},
   "source": [
    "Il faut convertir les listes de descripteurs en vecteurs"
   ]
  },
  {
   "cell_type": "code",
   "execution_count": 29,
   "id": "199b7a37",
   "metadata": {},
   "outputs": [
    {
     "data": {
      "application/vnd.jupyter.widget-view+json": {
       "model_id": "1b40588084ba416d8e6c186ddf44d38f",
       "version_major": 2,
       "version_minor": 0
      },
      "text/plain": [
       "VBox()"
      ]
     },
     "metadata": {},
     "output_type": "display_data"
    },
    {
     "data": {
      "application/vnd.jupyter.widget-view+json": {
       "model_id": "",
       "version_major": 2,
       "version_minor": 0
      },
      "text/plain": [
       "FloatProgress(value=0.0, bar_style='info', description='Progress:', layout=Layout(height='25px', width='50%'),…"
      ]
     },
     "metadata": {},
     "output_type": "display_data"
    }
   ],
   "source": [
    "from pyspark.ml.linalg import Vectors, VectorUDT\n",
    "from pyspark.sql.functions import udf\n",
    "\n",
    "list_to_vector_udf = udf(lambda l: Vectors.dense(l), VectorUDT())\n",
    "\n",
    "df_with_vectors = desc_column_df.select(desc_column_df[\"Descripteur\"],\n",
    "                                        list_to_vector_udf(desc_column_df[\"Descripteur\"]).alias(\"vector\"))"
   ]
  },
  {
   "cell_type": "code",
   "execution_count": 30,
   "id": "5b519b23",
   "metadata": {},
   "outputs": [
    {
     "data": {
      "application/vnd.jupyter.widget-view+json": {
       "model_id": "8ab54cebc8ce45a097679c0bb040086f",
       "version_major": 2,
       "version_minor": 0
      },
      "text/plain": [
       "VBox()"
      ]
     },
     "metadata": {},
     "output_type": "display_data"
    },
    {
     "data": {
      "application/vnd.jupyter.widget-view+json": {
       "model_id": "",
       "version_major": 2,
       "version_minor": 0
      },
      "text/plain": [
       "FloatProgress(value=0.0, bar_style='info', description='Progress:', layout=Layout(height='25px', width='50%'),…"
      ]
     },
     "metadata": {},
     "output_type": "display_data"
    },
    {
     "name": "stdout",
     "output_type": "stream",
     "text": [
      "root\n",
      " |-- Descripteur: array (nullable = true)\n",
      " |    |-- element: integer (containsNull = true)\n",
      " |-- vector: vector (nullable = true)"
     ]
    }
   ],
   "source": [
    "df_with_vectors.printSchema()"
   ]
  },
  {
   "cell_type": "code",
   "execution_count": 31,
   "id": "1fee7df9",
   "metadata": {},
   "outputs": [
    {
     "data": {
      "application/vnd.jupyter.widget-view+json": {
       "model_id": "f39396f80a5646a1b4bcd688ac38fc36",
       "version_major": 2,
       "version_minor": 0
      },
      "text/plain": [
       "VBox()"
      ]
     },
     "metadata": {},
     "output_type": "display_data"
    },
    {
     "data": {
      "application/vnd.jupyter.widget-view+json": {
       "model_id": "",
       "version_major": 2,
       "version_minor": 0
      },
      "text/plain": [
       "FloatProgress(value=0.0, bar_style='info', description='Progress:', layout=Layout(height='25px', width='50%'),…"
      ]
     },
     "metadata": {},
     "output_type": "display_data"
    },
    {
     "name": "stdout",
     "output_type": "stream",
     "text": [
      "+--------------------+--------------------+\n",
      "|         Descripteur|              vector|\n",
      "+--------------------+--------------------+\n",
      "|[104, 40, 70, 153...|[104.0,40.0,70.0,...|\n",
      "|[74, 153, 190, 15...|[74.0,153.0,190.0...|\n",
      "|[66, 185, 54, 152...|[66.0,185.0,54.0,...|\n",
      "|[32, 205, 90, 255...|[32.0,205.0,90.0,...|\n",
      "|[153, 77, 71, 254...|[153.0,77.0,71.0,...|\n",
      "|[130, 45, 142, 15...|[130.0,45.0,142.0...|\n",
      "|[195, 160, 102, 1...|[195.0,160.0,102....|\n",
      "|[176, 205, 31, 25...|[176.0,205.0,31.0...|\n",
      "|[177, 77, 71, 222...|[177.0,77.0,71.0,...|\n",
      "|[219, 77, 78, 254...|[219.0,77.0,78.0,...|\n",
      "|[66, 185, 58, 136...|[66.0,185.0,58.0,...|\n",
      "|[2, 138, 178, 153...|[2.0,138.0,178.0,...|\n",
      "|[27, 75, 107, 254...|[27.0,75.0,107.0,...|\n",
      "|[2, 138, 162, 153...|[2.0,138.0,162.0,...|\n",
      "|[2, 138, 130, 153...|[2.0,138.0,130.0,...|\n",
      "|[162, 28, 122, 73...|[162.0,28.0,122.0...|\n",
      "|[2, 136, 134, 153...|[2.0,136.0,134.0,...|\n",
      "|[131, 147, 99, 20...|[131.0,147.0,99.0...|\n",
      "|[162, 144, 122, 8...|[162.0,144.0,122....|\n",
      "|[2, 185, 42, 136,...|[2.0,185.0,42.0,1...|\n",
      "+--------------------+--------------------+\n",
      "only showing top 20 rows"
     ]
    }
   ],
   "source": [
    "df_with_vectors.show()"
   ]
  },
  {
   "cell_type": "code",
   "execution_count": 32,
   "id": "054c9024",
   "metadata": {},
   "outputs": [
    {
     "data": {
      "application/vnd.jupyter.widget-view+json": {
       "model_id": "3d63a797a51c4f4f854a70d5d8af83a4",
       "version_major": 2,
       "version_minor": 0
      },
      "text/plain": [
       "VBox()"
      ]
     },
     "metadata": {},
     "output_type": "display_data"
    },
    {
     "data": {
      "application/vnd.jupyter.widget-view+json": {
       "model_id": "",
       "version_major": 2,
       "version_minor": 0
      },
      "text/plain": [
       "FloatProgress(value=0.0, bar_style='info', description='Progress:', layout=Layout(height='25px', width='50%'),…"
      ]
     },
     "metadata": {},
     "output_type": "display_data"
    }
   ],
   "source": [
    "pca = PCA(k=30, inputCol=\"vector\", outputCol=\"Descripteur-ACP\")"
   ]
  },
  {
   "cell_type": "code",
   "execution_count": 33,
   "id": "bd9a98b1",
   "metadata": {},
   "outputs": [
    {
     "data": {
      "application/vnd.jupyter.widget-view+json": {
       "model_id": "319da2adf589460e81796a72bb14979c",
       "version_major": 2,
       "version_minor": 0
      },
      "text/plain": [
       "VBox()"
      ]
     },
     "metadata": {},
     "output_type": "display_data"
    },
    {
     "data": {
      "application/vnd.jupyter.widget-view+json": {
       "model_id": "",
       "version_major": 2,
       "version_minor": 0
      },
      "text/plain": [
       "FloatProgress(value=0.0, bar_style='info', description='Progress:', layout=Layout(height='25px', width='50%'),…"
      ]
     },
     "metadata": {},
     "output_type": "display_data"
    }
   ],
   "source": [
    "model = pca.fit(df_with_vectors)"
   ]
  },
  {
   "cell_type": "markdown",
   "id": "f983edb9",
   "metadata": {},
   "source": [
    "Variance cumulée"
   ]
  },
  {
   "cell_type": "code",
   "execution_count": 34,
   "id": "01c50cdc",
   "metadata": {},
   "outputs": [
    {
     "data": {
      "application/vnd.jupyter.widget-view+json": {
       "model_id": "175e261c40b640879821a96b046bc077",
       "version_major": 2,
       "version_minor": 0
      },
      "text/plain": [
       "VBox()"
      ]
     },
     "metadata": {},
     "output_type": "display_data"
    },
    {
     "data": {
      "application/vnd.jupyter.widget-view+json": {
       "model_id": "",
       "version_major": 2,
       "version_minor": 0
      },
      "text/plain": [
       "FloatProgress(value=0.0, bar_style='info', description='Progress:', layout=Layout(height='25px', width='50%'),…"
      ]
     },
     "metadata": {},
     "output_type": "display_data"
    }
   ],
   "source": [
    "cumValues = model.explainedVariance.cumsum()"
   ]
  },
  {
   "cell_type": "code",
   "execution_count": 35,
   "id": "f861945c",
   "metadata": {},
   "outputs": [
    {
     "data": {
      "application/vnd.jupyter.widget-view+json": {
       "model_id": "14a1198857dc472ead19bae8f9d59576",
       "version_major": 2,
       "version_minor": 0
      },
      "text/plain": [
       "VBox()"
      ]
     },
     "metadata": {},
     "output_type": "display_data"
    },
    {
     "data": {
      "application/vnd.jupyter.widget-view+json": {
       "model_id": "",
       "version_major": 2,
       "version_minor": 0
      },
      "text/plain": [
       "FloatProgress(value=0.0, bar_style='info', description='Progress:', layout=Layout(height='25px', width='50%'),…"
      ]
     },
     "metadata": {},
     "output_type": "display_data"
    },
    {
     "name": "stdout",
     "output_type": "stream",
     "text": [
      "array([0.15537487, 0.28328573, 0.37812855, 0.45802155, 0.50960773,\n",
      "       0.5507649 , 0.58824903, 0.62304234, 0.65240203, 0.67899894,\n",
      "       0.70480248, 0.72794345, 0.74970692, 0.77006828, 0.7888926 ,\n",
      "       0.80734804, 0.8247075 , 0.84095689, 0.85636538, 0.87132826,\n",
      "       0.88531318, 0.89848159, 0.91101659, 0.9233914 , 0.93504097,\n",
      "       0.94632057, 0.95669296, 0.96663647, 0.97592378, 0.98467208])"
     ]
    }
   ],
   "source": [
    "cumValues"
   ]
  },
  {
   "cell_type": "markdown",
   "id": "99474957",
   "metadata": {},
   "source": [
    "Le matplotlib inline ne reconnait les variables globales du notebook, je n'ai pas trouvé d'explication.\n",
    "Il faut copier les valeurs pour les afficher."
   ]
  },
  {
   "cell_type": "code",
   "execution_count": 36,
   "id": "a9a87885",
   "metadata": {},
   "outputs": [
    {
     "data": {
      "text/plain": [
       "[<matplotlib.lines.Line2D at 0x7f53417d3910>]"
      ]
     },
     "execution_count": 36,
     "metadata": {},
     "output_type": "execute_result"
    },
    {
     "data": {
      "image/png": "[encoded data removed]",
      "text/plain": [
       "<Figure size 720x432 with 1 Axes>"
      ]
     },
     "metadata": {
      "needs_background": "light"
     },
     "output_type": "display_data"
    }
   ],
   "source": [
    "%matplotlib inline\n",
    "import matplotlib.pyplot as plt\n",
    "\n",
    "cumValues = [0.15537487, 0.28328573, 0.37812855, 0.45802155, 0.50960773,\n",
    "       0.5507649 , 0.58824903, 0.62304234, 0.65240203, 0.67899894,\n",
    "       0.70480248, 0.72794345, 0.74970692, 0.77006828, 0.7888926 ,\n",
    "       0.80734804, 0.8247075 , 0.84095689, 0.85636538, 0.87132826,\n",
    "       0.88531318, 0.89848159, 0.91101659, 0.9233914 , 0.93504097,\n",
    "       0.94632057, 0.95669296, 0.96663647, 0.97592378, 0.98467208]\n",
    "\n",
    "plt.figure(figsize=(10,6))\n",
    "plt.title(\"Variance cumulée des composantes principales de l'ACP\")\n",
    "plt.plot(range(1,31), cumValues, color='r',\n",
    "         marker = 'o', linestyle='--')"
   ]
  },
  {
   "cell_type": "code",
   "execution_count": 37,
   "id": "66ae5e8c",
   "metadata": {},
   "outputs": [
    {
     "data": {
      "application/vnd.jupyter.widget-view+json": {
       "model_id": "15abe6374b9646f6a452506031d70885",
       "version_major": 2,
       "version_minor": 0
      },
      "text/plain": [
       "VBox()"
      ]
     },
     "metadata": {},
     "output_type": "display_data"
    },
    {
     "data": {
      "application/vnd.jupyter.widget-view+json": {
       "model_id": "",
       "version_major": 2,
       "version_minor": 0
      },
      "text/plain": [
       "FloatProgress(value=0.0, bar_style='info', description='Progress:', layout=Layout(height='25px', width='50%'),…"
      ]
     },
     "metadata": {},
     "output_type": "display_data"
    },
    {
     "name": "stdout",
     "output_type": "stream",
     "text": [
      "0.8713282619951429"
     ]
    }
   ],
   "source": [
    "cumValues[19]"
   ]
  },
  {
   "cell_type": "markdown",
   "id": "d9a468db",
   "metadata": {},
   "source": [
    "Plus de 87% de la variance est expliquée avec 20 variables.\n",
    "Nous choisirons donc de réaliser une ACP de 20 composantes au maximum."
   ]
  },
  {
   "cell_type": "code",
   "execution_count": 38,
   "id": "ca04e5f2",
   "metadata": {},
   "outputs": [
    {
     "data": {
      "application/vnd.jupyter.widget-view+json": {
       "model_id": "3b66699a5a27496e953b46def12c537f",
       "version_major": 2,
       "version_minor": 0
      },
      "text/plain": [
       "VBox()"
      ]
     },
     "metadata": {},
     "output_type": "display_data"
    },
    {
     "data": {
      "application/vnd.jupyter.widget-view+json": {
       "model_id": "",
       "version_major": 2,
       "version_minor": 0
      },
      "text/plain": [
       "FloatProgress(value=0.0, bar_style='info', description='Progress:', layout=Layout(height='25px', width='50%'),…"
      ]
     },
     "metadata": {},
     "output_type": "display_data"
    }
   ],
   "source": [
    "pca = PCA(k=20, inputCol=\"vector\", outputCol=\"Descripteur-ACP\")"
   ]
  },
  {
   "cell_type": "code",
   "execution_count": 39,
   "id": "d150b542",
   "metadata": {},
   "outputs": [
    {
     "data": {
      "application/vnd.jupyter.widget-view+json": {
       "model_id": "941347906db54b8aa983b9c8143bbbf6",
       "version_major": 2,
       "version_minor": 0
      },
      "text/plain": [
       "VBox()"
      ]
     },
     "metadata": {},
     "output_type": "display_data"
    },
    {
     "data": {
      "application/vnd.jupyter.widget-view+json": {
       "model_id": "",
       "version_major": 2,
       "version_minor": 0
      },
      "text/plain": [
       "FloatProgress(value=0.0, bar_style='info', description='Progress:', layout=Layout(height='25px', width='50%'),…"
      ]
     },
     "metadata": {},
     "output_type": "display_data"
    }
   ],
   "source": [
    "pca = pca.fit(df_with_vectors)"
   ]
  },
  {
   "cell_type": "code",
   "execution_count": 40,
   "id": "a9ad8a82",
   "metadata": {},
   "outputs": [
    {
     "data": {
      "application/vnd.jupyter.widget-view+json": {
       "model_id": "04a4f603249a4a8d8aca1cc051d640eb",
       "version_major": 2,
       "version_minor": 0
      },
      "text/plain": [
       "VBox()"
      ]
     },
     "metadata": {},
     "output_type": "display_data"
    },
    {
     "data": {
      "application/vnd.jupyter.widget-view+json": {
       "model_id": "",
       "version_major": 2,
       "version_minor": 0
      },
      "text/plain": [
       "FloatProgress(value=0.0, bar_style='info', description='Progress:', layout=Layout(height='25px', width='50%'),…"
      ]
     },
     "metadata": {},
     "output_type": "display_data"
    },
    {
     "name": "stdout",
     "output_type": "stream",
     "text": [
      "+--------------------+--------------------+--------------------+\n",
      "|         Descripteur|              vector|     Descripteur-ACP|\n",
      "+--------------------+--------------------+--------------------+\n",
      "|[104, 40, 70, 153...|[104.0,40.0,70.0,...|[150.514595103003...|\n",
      "|[74, 153, 190, 15...|[74.0,153.0,190.0...|[428.855843838319...|\n",
      "|[66, 185, 54, 152...|[66.0,185.0,54.0,...|[457.252577330120...|\n",
      "|[32, 205, 90, 255...|[32.0,205.0,90.0,...|[324.767434922211...|\n",
      "|[153, 77, 71, 254...|[153.0,77.0,71.0,...|[115.120956161282...|\n",
      "|[130, 45, 142, 15...|[130.0,45.0,142.0...|[393.521863538775...|\n",
      "|[195, 160, 102, 1...|[195.0,160.0,102....|[255.311557111819...|\n",
      "|[176, 205, 31, 25...|[176.0,205.0,31.0...|[325.282576638731...|\n",
      "|[177, 77, 71, 222...|[177.0,77.0,71.0,...|[142.236048508791...|\n",
      "|[219, 77, 78, 254...|[219.0,77.0,78.0,...|[70.9466704788532...|\n",
      "|[66, 185, 58, 136...|[66.0,185.0,58.0,...|[414.965991530804...|\n",
      "|[2, 138, 178, 153...|[2.0,138.0,178.0,...|[430.796742827333...|\n",
      "|[27, 75, 107, 254...|[27.0,75.0,107.0,...|[131.102322461429...|\n",
      "|[2, 138, 162, 153...|[2.0,138.0,162.0,...|[392.444050621750...|\n",
      "|[2, 138, 130, 153...|[2.0,138.0,130.0,...|[471.185613160236...|\n",
      "|[162, 28, 122, 73...|[162.0,28.0,122.0...|[231.648149268120...|\n",
      "|[2, 136, 134, 153...|[2.0,136.0,134.0,...|[337.429896793286...|\n",
      "|[131, 147, 99, 20...|[131.0,147.0,99.0...|[303.596040272388...|\n",
      "|[162, 144, 122, 8...|[162.0,144.0,122....|[272.093657523555...|\n",
      "|[2, 185, 42, 136,...|[2.0,185.0,42.0,1...|[444.711785106022...|\n",
      "+--------------------+--------------------+--------------------+\n",
      "only showing top 20 rows"
     ]
    }
   ],
   "source": [
    "pca.transform(df_with_vectors).show()"
   ]
  },
  {
   "cell_type": "markdown",
   "id": "216fd08f",
   "metadata": {},
   "source": [
    "Il doit être désormais possible de regrouper ces descripteur (décrits par 20 features chacun) en \"visual word\". \n",
    "En éxécutant un clustering Kmeans, il devient alors possible de regrouper les descripteurs qui se ressemblent le plus. Cela permettrait d'attribuer à chaque descripteur une unique valeur, correspondant au \"visual word\" correspondant.\n",
    "\n",
    "Ainsi, chaque image serait décrite par une liste de \"visual word\" (de longeueur égale au nombre de descripteur détectés par ORB).\n",
    "Il est ensuite possible de compter le nombre de visual word de chaque image (en faisant des opération de map reduce).\n",
    "Pour la prédiction, on entraînerait un classifieur bayésien multimodal. Cela permettrait d'effectuer des prédiction sur le fruits en fonction du noombre de points d'intérêt détectés."
   ]
  },
  {
   "cell_type": "markdown",
   "id": "a6a98a35",
   "metadata": {},
   "source": [
    "## Réduction dimensionnelle sur le spark dataframe de base:"
   ]
  },
  {
   "cell_type": "code",
   "execution_count": 41,
   "id": "45ccc66c",
   "metadata": {},
   "outputs": [
    {
     "data": {
      "application/vnd.jupyter.widget-view+json": {
       "model_id": "a738fd29eb4041abaa3fb953626ad930",
       "version_major": 2,
       "version_minor": 0
      },
      "text/plain": [
       "VBox()"
      ]
     },
     "metadata": {},
     "output_type": "display_data"
    },
    {
     "data": {
      "application/vnd.jupyter.widget-view+json": {
       "model_id": "",
       "version_major": 2,
       "version_minor": 0
      },
      "text/plain": [
       "FloatProgress(value=0.0, bar_style='info', description='Progress:', layout=Layout(height='25px', width='50%'),…"
      ]
     },
     "metadata": {},
     "output_type": "display_data"
    },
    {
     "name": "stdout",
     "output_type": "stream",
     "text": [
      "root\n",
      " |-- image: struct (nullable = true)\n",
      " |    |-- origin: string (nullable = true)\n",
      " |    |-- height: integer (nullable = false)\n",
      " |    |-- width: integer (nullable = false)\n",
      " |    |-- nChannels: integer (nullable = false)\n",
      " |    |-- mode: integer (nullable = false)\n",
      " |    |-- data: binary (nullable = false)\n",
      " |-- label: string (nullable = false)\n",
      " |-- Descripteur: array (nullable = true)\n",
      " |    |-- element: integer (containsNull = true)"
     ]
    }
   ],
   "source": [
    "exploded_df = orb_df.select(orb_df['image'],orb_df['label'],explode(orb_df['descriptors ORB']))\n",
    "exploded_df = exploded_df.withColumnRenamed(\"col\",\"Descripteur\")\n",
    "exploded_df.printSchema()"
   ]
  },
  {
   "cell_type": "code",
   "execution_count": 42,
   "id": "eb69609f",
   "metadata": {},
   "outputs": [
    {
     "data": {
      "application/vnd.jupyter.widget-view+json": {
       "model_id": "5cd52d0e96d043509e6bb6a968042fcd",
       "version_major": 2,
       "version_minor": 0
      },
      "text/plain": [
       "VBox()"
      ]
     },
     "metadata": {},
     "output_type": "display_data"
    },
    {
     "data": {
      "application/vnd.jupyter.widget-view+json": {
       "model_id": "",
       "version_major": 2,
       "version_minor": 0
      },
      "text/plain": [
       "FloatProgress(value=0.0, bar_style='info', description='Progress:', layout=Layout(height='25px', width='50%'),…"
      ]
     },
     "metadata": {},
     "output_type": "display_data"
    }
   ],
   "source": [
    "from pyspark.ml.linalg import Vectors, VectorUDT\n",
    "from pyspark.sql.functions import udf\n",
    "\n",
    "list_to_vector_udf = udf(lambda l: Vectors.dense(l), VectorUDT())\n",
    "exploded_df_2 = exploded_df.withColumn(\"Descripteur-vect\", list_to_vector_udf(exploded_df[\"Descripteur\"]))"
   ]
  },
  {
   "cell_type": "code",
   "execution_count": 43,
   "id": "0a098214",
   "metadata": {},
   "outputs": [
    {
     "data": {
      "application/vnd.jupyter.widget-view+json": {
       "model_id": "523e2fc7be1243759026a3a8fa91565b",
       "version_major": 2,
       "version_minor": 0
      },
      "text/plain": [
       "VBox()"
      ]
     },
     "metadata": {},
     "output_type": "display_data"
    },
    {
     "data": {
      "application/vnd.jupyter.widget-view+json": {
       "model_id": "",
       "version_major": 2,
       "version_minor": 0
      },
      "text/plain": [
       "FloatProgress(value=0.0, bar_style='info', description='Progress:', layout=Layout(height='25px', width='50%'),…"
      ]
     },
     "metadata": {},
     "output_type": "display_data"
    },
    {
     "name": "stdout",
     "output_type": "stream",
     "text": [
      "root\n",
      " |-- image: struct (nullable = true)\n",
      " |    |-- origin: string (nullable = true)\n",
      " |    |-- height: integer (nullable = false)\n",
      " |    |-- width: integer (nullable = false)\n",
      " |    |-- nChannels: integer (nullable = false)\n",
      " |    |-- mode: integer (nullable = false)\n",
      " |    |-- data: binary (nullable = false)\n",
      " |-- label: string (nullable = false)\n",
      " |-- Descripteur: array (nullable = true)\n",
      " |    |-- element: integer (containsNull = true)\n",
      " |-- Descripteur-vect: vector (nullable = true)"
     ]
    }
   ],
   "source": [
    "exploded_df_2.printSchema()"
   ]
  },
  {
   "cell_type": "code",
   "execution_count": 44,
   "id": "3add073f",
   "metadata": {},
   "outputs": [
    {
     "data": {
      "application/vnd.jupyter.widget-view+json": {
       "model_id": "a2e3758129d94029ad4cd8533bef899c",
       "version_major": 2,
       "version_minor": 0
      },
      "text/plain": [
       "VBox()"
      ]
     },
     "metadata": {},
     "output_type": "display_data"
    },
    {
     "data": {
      "application/vnd.jupyter.widget-view+json": {
       "model_id": "",
       "version_major": 2,
       "version_minor": 0
      },
      "text/plain": [
       "FloatProgress(value=0.0, bar_style='info', description='Progress:', layout=Layout(height='25px', width='50%'),…"
      ]
     },
     "metadata": {},
     "output_type": "display_data"
    }
   ],
   "source": [
    "exploded_df_2 = exploded_df_2.drop('Descripteur')"
   ]
  },
  {
   "cell_type": "code",
   "execution_count": 45,
   "id": "750cb4bf",
   "metadata": {},
   "outputs": [
    {
     "data": {
      "application/vnd.jupyter.widget-view+json": {
       "model_id": "29b117b88c11489e9276257d790708d5",
       "version_major": 2,
       "version_minor": 0
      },
      "text/plain": [
       "VBox()"
      ]
     },
     "metadata": {},
     "output_type": "display_data"
    },
    {
     "data": {
      "application/vnd.jupyter.widget-view+json": {
       "model_id": "",
       "version_major": 2,
       "version_minor": 0
      },
      "text/plain": [
       "FloatProgress(value=0.0, bar_style='info', description='Progress:', layout=Layout(height='25px', width='50%'),…"
      ]
     },
     "metadata": {},
     "output_type": "display_data"
    }
   ],
   "source": [
    "pca = PCA(k=20, inputCol=\"Descripteur-vect\", outputCol=\"Descripteur-ACP\")\n",
    "pca = pca.fit(exploded_df_2)\n",
    "exploded_df_2 = pca.transform(exploded_df_2)"
   ]
  },
  {
   "cell_type": "code",
   "execution_count": 46,
   "id": "1a8e6f59",
   "metadata": {},
   "outputs": [
    {
     "data": {
      "application/vnd.jupyter.widget-view+json": {
       "model_id": "65bb762ef63c4e88ba486d24718fc516",
       "version_major": 2,
       "version_minor": 0
      },
      "text/plain": [
       "VBox()"
      ]
     },
     "metadata": {},
     "output_type": "display_data"
    },
    {
     "data": {
      "application/vnd.jupyter.widget-view+json": {
       "model_id": "",
       "version_major": 2,
       "version_minor": 0
      },
      "text/plain": [
       "FloatProgress(value=0.0, bar_style='info', description='Progress:', layout=Layout(height='25px', width='50%'),…"
      ]
     },
     "metadata": {},
     "output_type": "display_data"
    },
    {
     "name": "stdout",
     "output_type": "stream",
     "text": [
      "root\n",
      " |-- image: struct (nullable = true)\n",
      " |    |-- origin: string (nullable = true)\n",
      " |    |-- height: integer (nullable = false)\n",
      " |    |-- width: integer (nullable = false)\n",
      " |    |-- nChannels: integer (nullable = false)\n",
      " |    |-- mode: integer (nullable = false)\n",
      " |    |-- data: binary (nullable = false)\n",
      " |-- label: string (nullable = false)\n",
      " |-- Descripteur-vect: vector (nullable = true)\n",
      " |-- Descripteur-ACP: vector (nullable = true)"
     ]
    }
   ],
   "source": [
    "exploded_df_2.printSchema()"
   ]
  },
  {
   "cell_type": "code",
   "execution_count": 47,
   "id": "4e3c35c7",
   "metadata": {},
   "outputs": [
    {
     "data": {
      "application/vnd.jupyter.widget-view+json": {
       "model_id": "3fe7149191b042388f7aef9a8002e621",
       "version_major": 2,
       "version_minor": 0
      },
      "text/plain": [
       "VBox()"
      ]
     },
     "metadata": {},
     "output_type": "display_data"
    },
    {
     "data": {
      "application/vnd.jupyter.widget-view+json": {
       "model_id": "",
       "version_major": 2,
       "version_minor": 0
      },
      "text/plain": [
       "FloatProgress(value=0.0, bar_style='info', description='Progress:', layout=Layout(height='25px', width='50%'),…"
      ]
     },
     "metadata": {},
     "output_type": "display_data"
    }
   ],
   "source": [
    "exploded_df_2 = exploded_df_2.drop('Descripteur-vect')"
   ]
  },
  {
   "cell_type": "code",
   "execution_count": 48,
   "id": "446135d7",
   "metadata": {},
   "outputs": [
    {
     "data": {
      "application/vnd.jupyter.widget-view+json": {
       "model_id": "208cb5d176f34ed0918a647cd25e4474",
       "version_major": 2,
       "version_minor": 0
      },
      "text/plain": [
       "VBox()"
      ]
     },
     "metadata": {},
     "output_type": "display_data"
    },
    {
     "data": {
      "application/vnd.jupyter.widget-view+json": {
       "model_id": "",
       "version_major": 2,
       "version_minor": 0
      },
      "text/plain": [
       "FloatProgress(value=0.0, bar_style='info', description='Progress:', layout=Layout(height='25px', width='50%'),…"
      ]
     },
     "metadata": {},
     "output_type": "display_data"
    },
    {
     "name": "stdout",
     "output_type": "stream",
     "text": [
      "root\n",
      " |-- image: struct (nullable = true)\n",
      " |    |-- origin: string (nullable = true)\n",
      " |    |-- height: integer (nullable = false)\n",
      " |    |-- width: integer (nullable = false)\n",
      " |    |-- nChannels: integer (nullable = false)\n",
      " |    |-- mode: integer (nullable = false)\n",
      " |    |-- data: binary (nullable = false)\n",
      " |-- label: string (nullable = false)\n",
      " |-- Descripteur-ACP: vector (nullable = true)"
     ]
    }
   ],
   "source": [
    "exploded_df_2.printSchema()"
   ]
  },
  {
   "cell_type": "markdown",
   "id": "d1074d24",
   "metadata": {},
   "source": [
    "# IV. Export au format parquet"
   ]
  },
  {
   "cell_type": "markdown",
   "id": "d61f5778",
   "metadata": {},
   "source": [
    "Ce n'est plus une transformation mais une action"
   ]
  },
  {
   "cell_type": "code",
   "execution_count": 49,
   "id": "82e83d1c",
   "metadata": {},
   "outputs": [
    {
     "data": {
      "application/vnd.jupyter.widget-view+json": {
       "model_id": "7307e338044941f596ac75af6b74243a",
       "version_major": 2,
       "version_minor": 0
      },
      "text/plain": [
       "VBox()"
      ]
     },
     "metadata": {},
     "output_type": "display_data"
    },
    {
     "data": {
      "application/vnd.jupyter.widget-view+json": {
       "model_id": "",
       "version_major": 2,
       "version_minor": 0
      },
      "text/plain": [
       "FloatProgress(value=0.0, bar_style='info', description='Progress:', layout=Layout(height='25px', width='50%'),…"
      ]
     },
     "metadata": {},
     "output_type": "display_data"
    }
   ],
   "source": [
    "exploded_df_2.write.parquet(path=\"s3://p8-prevot/results/\", mode=\"overwrite\")"
   ]
  },
  {
   "cell_type": "markdown",
   "id": "8ccaff6c",
   "metadata": {},
   "source": [
    "## Ouverture du dataFrame SPark à partir du répertoire de résultats sur S3"
   ]
  },
  {
   "cell_type": "code",
   "execution_count": 50,
   "id": "95675df5",
   "metadata": {},
   "outputs": [
    {
     "data": {
      "application/vnd.jupyter.widget-view+json": {
       "model_id": "880aae6a54574247829ed14fa4961145",
       "version_major": 2,
       "version_minor": 0
      },
      "text/plain": [
       "VBox()"
      ]
     },
     "metadata": {},
     "output_type": "display_data"
    },
    {
     "data": {
      "application/vnd.jupyter.widget-view+json": {
       "model_id": "",
       "version_major": 2,
       "version_minor": 0
      },
      "text/plain": [
       "FloatProgress(value=0.0, bar_style='info', description='Progress:', layout=Layout(height='25px', width='50%'),…"
      ]
     },
     "metadata": {},
     "output_type": "display_data"
    }
   ],
   "source": [
    "df = sqlContext.read.parquet('s3://p8-prevot/results/')"
   ]
  },
  {
   "cell_type": "code",
   "execution_count": 51,
   "id": "c294c79e",
   "metadata": {},
   "outputs": [
    {
     "data": {
      "application/vnd.jupyter.widget-view+json": {
       "model_id": "506272be7d1d4114adfc37a3b9ffbd44",
       "version_major": 2,
       "version_minor": 0
      },
      "text/plain": [
       "VBox()"
      ]
     },
     "metadata": {},
     "output_type": "display_data"
    },
    {
     "data": {
      "application/vnd.jupyter.widget-view+json": {
       "model_id": "",
       "version_major": 2,
       "version_minor": 0
      },
      "text/plain": [
       "FloatProgress(value=0.0, bar_style='info', description='Progress:', layout=Layout(height='25px', width='50%'),…"
      ]
     },
     "metadata": {},
     "output_type": "display_data"
    },
    {
     "name": "stdout",
     "output_type": "stream",
     "text": [
      "+--------------------+--------+--------------------+\n",
      "|               image|   label|     Descripteur-ACP|\n",
      "+--------------------+--------+--------------------+\n",
      "|[s3://p8-prevot/d...|carrot_1|[343.772301477096...|\n",
      "|[s3://p8-prevot/d...|carrot_1|[259.018964148121...|\n",
      "|[s3://p8-prevot/d...|carrot_1|[391.243676222550...|\n",
      "|[s3://p8-prevot/d...|carrot_1|[421.574994468874...|\n",
      "|[s3://p8-prevot/d...|carrot_1|[398.804929967018...|\n",
      "|[s3://p8-prevot/d...|carrot_1|[402.875472047792...|\n",
      "|[s3://p8-prevot/d...|carrot_1|[349.853560961424...|\n",
      "|[s3://p8-prevot/d...|carrot_1|[263.973792477903...|\n",
      "|[s3://p8-prevot/d...|carrot_1|[367.125874619342...|\n",
      "|[s3://p8-prevot/d...|carrot_1|[323.693884712273...|\n",
      "|[s3://p8-prevot/d...|carrot_1|[436.733147148686...|\n",
      "|[s3://p8-prevot/d...|carrot_1|[264.274258208548...|\n",
      "|[s3://p8-prevot/d...|carrot_1|[393.643823711775...|\n",
      "|[s3://p8-prevot/d...|carrot_1|[233.418603210058...|\n",
      "|[s3://p8-prevot/d...|carrot_1|[277.213143465099...|\n",
      "|[s3://p8-prevot/d...|carrot_1|[450.281707391272...|\n",
      "|[s3://p8-prevot/d...|carrot_1|[348.016708041231...|\n",
      "|[s3://p8-prevot/d...|carrot_1|[191.604968568738...|\n",
      "|[s3://p8-prevot/d...|carrot_1|[188.887304176273...|\n",
      "|[s3://p8-prevot/d...|carrot_1|[311.736364757196...|\n",
      "+--------------------+--------+--------------------+\n",
      "only showing top 20 rows"
     ]
    }
   ],
   "source": [
    "df.show()"
   ]
  },
  {
   "cell_type": "markdown",
   "id": "42eb8424",
   "metadata": {},
   "source": [
    "# V. Rédaction du script total"
   ]
  },
  {
   "cell_type": "code",
   "execution_count": 52,
   "id": "eb6bbbc9",
   "metadata": {},
   "outputs": [
    {
     "data": {
      "application/vnd.jupyter.widget-view+json": {
       "model_id": "f65907ba489b4b4a8720b6940d660563",
       "version_major": 2,
       "version_minor": 0
      },
      "text/plain": [
       "VBox()"
      ]
     },
     "metadata": {},
     "output_type": "display_data"
    },
    {
     "data": {
      "application/vnd.jupyter.widget-view+json": {
       "model_id": "",
       "version_major": 2,
       "version_minor": 0
      },
      "text/plain": [
       "FloatProgress(value=0.0, bar_style='info', description='Progress:', layout=Layout(height='25px', width='50%'),…"
      ]
     },
     "metadata": {},
     "output_type": "display_data"
    }
   ],
   "source": [
    "## Import des librairies et modules nécessaires au fonctionnement de l'application spark\n",
    "\n",
    "import boto3\n",
    "import numpy as np\n",
    "from pyspark import SparkContext\n",
    "from pyspark.sql import SparkSession\n",
    "from pyspark.ml.image import ImageSchema\n",
    "from pyspark.sql.functions import lit\n",
    "from pyspark.sql.functions import udf\n",
    "from pyspark.sql.functions import explode\n",
    "from pyspark.sql.types import *\n",
    "from functools import reduce\n",
    "from pyspark.ml.linalg import Vectors, VectorUDT\n",
    "from pyspark.ml.feature import PCA\n",
    "import cv2 as cv\n",
    "\n",
    "## 0. (Ré)Initialiser la session Spark\n",
    "\n",
    "sc = SparkContext.getOrCreate()\n",
    "spark = SparkSession.builder.appName(\"Prevot-P8\").getOrCreate()\n",
    "\n",
    "## 1. Importation des images dans un dataframe Spark\n",
    "\n",
    "def image_df(bucket='p8-prevot', prefix = 'data/Test/'):\n",
    "    \n",
    "    '''Permet de créer un dataframe spark contenant les images et leurs caractéristiques'''\n",
    "    client = boto3.client('s3')\n",
    "    result = client.list_objects(Bucket=bucket, Prefix=prefix, Delimiter='/')\n",
    "\n",
    "    dataframes = []\n",
    "    \n",
    "    for o in result.get('CommonPrefixes'):\n",
    "        \n",
    "        folder = o.get('Prefix')\n",
    "        sub_folder = folder.split('/')[2]\n",
    "        data_path = 's3://{}/{}'.format(bucket, folder)\n",
    "        images_df = ImageSchema.readImages(data_path, recursive=True).withColumn(\"label\", lit(sub_folder))\n",
    "        dataframes.append(images_df)\n",
    "        \n",
    "    df = reduce(lambda first, second: first.union(second), dataframes)\n",
    "    df = df.repartition(200)\n",
    "    \n",
    "    return df\n",
    "\n",
    "df = image_df()\n",
    "print('Création du dataframe contenant les images: OK')\n",
    "\n",
    "## 2. Prétraitement: Detection et extraction de features avec descripteurs ORB\n",
    "\n",
    "def orb_descriptors(img):\n",
    "    \n",
    "    height = img[1]\n",
    "    width = img[2]\n",
    "    nchannels = img[3]\n",
    "    data = img[5]\n",
    "    \n",
    "    img_array = np.array(data).reshape(height, width, nchannels)\n",
    "    \n",
    "    orb = cv.ORB_create(nfeatures=30)\n",
    "    kp, des = orb.detectAndCompute(img_array,None)\n",
    "    \n",
    "    des = des.tolist()\n",
    "    \n",
    "    return des\n",
    "\n",
    "orb_UDF = udf(lambda img: orb_descriptors(img), ArrayType(ArrayType(IntegerType())))\n",
    "df = df.withColumn(\"Descripteurs ORB\", orb_UDF(\"image\"))\n",
    "print('ORB_UDF OK')\n",
    "\n",
    "\n",
    "df = df.select(df['image'], df['label'], explode(df['Descripteurs ORB']))\n",
    "df = df.withColumnRenamed(\"col\",\"Descripteur\")\n",
    "print('Explode OK')\n",
    "\n",
    "list_to_vector_udf = udf(lambda l: Vectors.dense(l), VectorUDT())\n",
    "df = df.withColumn(\"Descripteur-vect\", list_to_vector_udf(df[\"Descripteur\"]))\n",
    "df = df.drop('Descripteur')\n",
    "print('Vectorization OK')\n",
    "\n",
    "## 3. Réduction de dimension avec une ACP\n",
    "\n",
    "pca = PCA(k=20, inputCol=\"Descripteur-vect\", outputCol=\"Descripteur-ACP\")\n",
    "pca = pca.fit(df)\n",
    "df = pca.transform(df)\n",
    "df = df.drop('Descripteur-vect')\n",
    "print('PCA OK')\n",
    "\n",
    "# 4. Enregistrer les résultats sur le répertoire results de s3\n",
    "\n",
    "df.write.parquet(path=\"s3://p8-prevot/results/\", mode=\"overwrite\")\n",
    "print('Write OK')"
   ]
  }
 ],
 "metadata": {
  "kernelspec": {
   "display_name": "PySpark",
   "language": "",
   "name": "pysparkkernel"
  },
  "language_info": {
   "codemirror_mode": {
    "name": "python",
    "version": 2
   },
   "mimetype": "text/x-python",
   "name": "pyspark",
   "pygments_lexer": "python2"
  }
 },
 "nbformat": 4,
 "nbformat_minor": 5
}
